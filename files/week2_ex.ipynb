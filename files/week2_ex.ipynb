{
 "cells": [
  {
   "cell_type": "markdown",
   "metadata": {},
   "source": [
    "NS 2.1 (Königsberg problem)\n",
    "- *a; c; and d; can be drawn without lifting the pencil because if we represent them as graphs they have 0 or 2 nodes with odd degree. b; can't be drawn without lifting the pencil because it has 4 nodes with odd degree.*"
   ]
  },
  {
   "cell_type": "markdown",
   "metadata": {},
   "source": [
    "NS 2.3 (Graph representation)"
   ]
  },
  {
   "cell_type": "code",
   "execution_count": 228,
   "metadata": {},
   "outputs": [],
   "source": [
    "import networkx as nx\n",
    "\n",
    "G1 = nx.Graph()\n",
    "G1.add_nodes_from([1, 2, 3, 4, 5, 6])\n",
    "G1.add_edges_from([(1, 2), (1, 3), (1, 4), (1, 6), (2, 3), (2, 4), (3, 6)])\n",
    "\n",
    "G2 = nx.DiGraph()\n",
    "G2.add_nodes_from([1, 2, 3, 4, 5, 6])\n",
    "G2.add_edges_from([(1, 2), (2, 3), (2, 4), (3, 1), (3, 2), (4, 1), (6, 1), (6, 3)])\n"
   ]
  },
  {
   "cell_type": "code",
   "execution_count": 229,
   "metadata": {},
   "outputs": [
    {
     "data": {
      "text/plain": [
       "array([[0, 1, 1, 1, 0, 1],\n",
       "       [1, 0, 1, 1, 0, 0],\n",
       "       [1, 1, 0, 0, 0, 1],\n",
       "       [1, 1, 0, 0, 0, 0],\n",
       "       [0, 0, 0, 0, 0, 0],\n",
       "       [1, 0, 1, 0, 0, 0]])"
      ]
     },
     "execution_count": 229,
     "metadata": {},
     "output_type": "execute_result"
    }
   ],
   "source": [
    "#G1 adjacency matrix\n",
    "nx.adjacency_matrix(G1).todense()"
   ]
  },
  {
   "cell_type": "code",
   "execution_count": 230,
   "metadata": {},
   "outputs": [
    {
     "data": {
      "text/plain": [
       "array([[0, 1, 0, 0, 0, 0],\n",
       "       [0, 0, 1, 1, 0, 0],\n",
       "       [1, 1, 0, 0, 0, 0],\n",
       "       [1, 0, 0, 0, 0, 0],\n",
       "       [0, 0, 0, 0, 0, 0],\n",
       "       [1, 0, 1, 0, 0, 0]])"
      ]
     },
     "execution_count": 230,
     "metadata": {},
     "output_type": "execute_result"
    }
   ],
   "source": [
    "#G2 adjacency matrix\n",
    "nx.adjacency_matrix(G2).todense()"
   ]
  },
  {
   "cell_type": "code",
   "execution_count": 231,
   "metadata": {},
   "outputs": [
    {
     "data": {
      "text/plain": [
       "EdgeView([(1, 2), (1, 3), (1, 4), (1, 6), (2, 3), (2, 4), (3, 6)])"
      ]
     },
     "execution_count": 231,
     "metadata": {},
     "output_type": "execute_result"
    }
   ],
   "source": [
    "#G1 edge list\n",
    "G1.edges()"
   ]
  },
  {
   "cell_type": "code",
   "execution_count": 232,
   "metadata": {},
   "outputs": [
    {
     "data": {
      "text/plain": [
       "OutEdgeView([(1, 2), (2, 3), (2, 4), (3, 1), (3, 2), (4, 1), (6, 1), (6, 3)])"
      ]
     },
     "execution_count": 232,
     "metadata": {},
     "output_type": "execute_result"
    }
   ],
   "source": [
    "#G2 edge list\n",
    "G2.edges()"
   ]
  },
  {
   "cell_type": "code",
   "execution_count": 233,
   "metadata": {},
   "outputs": [
    {
     "data": {
      "text/plain": [
       "0.6388888888888888"
      ]
     },
     "execution_count": 233,
     "metadata": {},
     "output_type": "execute_result"
    }
   ],
   "source": [
    "#G1 avarage clustering coefficient\n",
    "nx.average_clustering(G1)"
   ]
  },
  {
   "cell_type": "code",
   "execution_count": 234,
   "metadata": {},
   "outputs": [
    {
     "name": "stdout",
     "output_type": "stream",
     "text": [
      "[[0 1 1 1 1 0]\n",
      " [1 0 1 1 0 0]\n",
      " [1 1 0 0 1 0]\n",
      " [1 1 0 0 0 0]\n",
      " [1 0 1 0 0 0]\n",
      " [0 0 0 0 0 0]]\n",
      "[(1, 2), (1, 3), (1, 4), (1, 5), (2, 3), (2, 4), (3, 5)]\n"
     ]
    }
   ],
   "source": [
    "#G1 with node 5 and 6 swapped\n",
    "G12 = nx.Graph()\n",
    "G12.add_nodes_from([1, 2, 3, 4, 5, 6])\n",
    "G12.add_edges_from([(1, 2), (1, 3), (1, 4), (1, 5), (2, 3), (2, 4), (3, 5)])\n",
    "print(nx.adjacency_matrix(G12).todense())\n",
    "print(G12.edges())"
   ]
  },
  {
   "cell_type": "markdown",
   "metadata": {},
   "source": [
    "- After switching the labels of node 5 and 6 the 5th and 6th row of the adjacency matrix will be swapped.\n",
    "- In the edge list the 6 changes to 5."
   ]
  },
  {
   "cell_type": "markdown",
   "metadata": {},
   "source": [
    "From the edge list we can't determine if here was any nodes with degree 0."
   ]
  },
  {
   "cell_type": "markdown",
   "metadata": {},
   "source": [
    "Find paths of length 3 between nodes 1 and 3 in G1, with repetition of nodes and edges allowed\n",
    "\n",
    "the second step in the path has to be connected to 3 so it can only be either 1, 2 or 6\n",
    "starting from 1 with repettion of nodes and edges allowed we can have the following 3 step paths:\n",
    "- 1 -> 2 -> 1 -> 3\n",
    "- 1 -> 3 -> 1 -> 3\n",
    "- 1 -> 4 -> 1 -> 3\n",
    "- 1 -> 6 -> 1 -> 3\n",
    "- 1 -> 3 -> 2 -> 3\n",
    "- 1 -> 4 -> 2 -> 3\n",
    "- 1 -> 3 -> 6 -> 3"
   ]
  },
  {
   "cell_type": "markdown",
   "metadata": {},
   "source": [
    "In G2 the only nodes with links to node 3 are node 2 and node 6. However there is no way to get to these nodes from node 1 in 2 steps. Therefore there are no paths of length 3 between nodes 1 and 3 in G2."
   ]
  },
  {
   "cell_type": "code",
   "execution_count": 235,
   "metadata": {},
   "outputs": [
    {
     "name": "stdout",
     "output_type": "stream",
     "text": [
      "[[1, 2, 3, 6], [1, 3, 2, 4]]\n"
     ]
    }
   ],
   "source": [
    "cycles = sorted(nx.simple_cycles(G1))\n",
    "# find only the cycles with 4 nodes\n",
    "cycles = [c for c in cycles if len(c) == 4]\n",
    "print(cycles)"
   ]
  },
  {
   "cell_type": "code",
   "execution_count": 236,
   "metadata": {},
   "outputs": [
    {
     "name": "stdout",
     "output_type": "stream",
     "text": [
      "[[1, 2, 3], [1, 2, 4], [2, 3]]\n",
      "[]\n"
     ]
    }
   ],
   "source": [
    "cycles2 = sorted(nx.simple_cycles(G2))\n",
    "print(cycles2)\n",
    "# find only the cycles with 4 nodes\n",
    "cycles2 = [c for c in cycles2 if len(c) == 4]\n",
    "print(cycles2)\n",
    "#there are no cycles with 4 nodes in G2"
   ]
  },
  {
   "cell_type": "code",
   "execution_count": 237,
   "metadata": {},
   "outputs": [
    {
     "data": {
      "text/plain": [
       "array([[0, 0, 0, 0, 0, 0, 1, 0, 0, 0, 0],\n",
       "       [0, 0, 0, 0, 0, 0, 0, 0, 1, 0, 0],\n",
       "       [0, 0, 0, 0, 0, 0, 1, 1, 1, 0, 0],\n",
       "       [0, 0, 0, 0, 0, 0, 0, 0, 1, 1, 0],\n",
       "       [0, 0, 0, 0, 0, 0, 0, 0, 1, 0, 1],\n",
       "       [0, 0, 0, 0, 0, 0, 0, 0, 0, 0, 1],\n",
       "       [1, 0, 1, 0, 0, 0, 0, 0, 0, 0, 0],\n",
       "       [0, 0, 1, 0, 0, 0, 0, 0, 0, 0, 0],\n",
       "       [0, 1, 1, 1, 1, 0, 0, 0, 0, 0, 0],\n",
       "       [0, 0, 0, 1, 0, 0, 0, 0, 0, 0, 0],\n",
       "       [0, 0, 0, 0, 1, 1, 0, 0, 0, 0, 0]])"
      ]
     },
     "execution_count": 237,
     "metadata": {},
     "output_type": "execute_result"
    }
   ],
   "source": [
    "#Bipaartite graph\n",
    "B = nx.Graph()\n",
    "B.add_nodes_from([1, 2, 3, 4, 5, 6, 7, 8, 9, 10, 11])\n",
    "B.add_edges_from([(1, 7), (2, 9), (3, 7), (3, 8), (3, 9), (4, 9), (4, 10), (5, 9), (5, 11), (6, 11)])\n",
    "\n",
    "#B bipartite adjacency matrix\n",
    "nx.adjacency_matrix(B).todense()"
   ]
  },
  {
   "cell_type": "markdown",
   "metadata": {},
   "source": [
    "It is Anti-Diagonal because there are no links between the nodes in block 1-6 and 7-11"
   ]
  },
  {
   "cell_type": "code",
   "execution_count": 238,
   "metadata": {},
   "outputs": [
    {
     "name": "stdout",
     "output_type": "stream",
     "text": [
      "Purple set: {1, 2, 3, 4, 5, 6}\n",
      "Green set: {7, 8, 9, 10, 11}\n",
      "Purple projection:\n",
      "[[0 0 1 0 0 0]\n",
      " [0 0 1 1 1 0]\n",
      " [1 1 0 1 1 0]\n",
      " [0 1 1 0 1 0]\n",
      " [0 1 1 1 0 1]\n",
      " [0 0 0 0 1 0]]\n",
      "Green projection:\n",
      "[[0 1 1 0 0]\n",
      " [1 0 1 0 0]\n",
      " [1 1 0 1 1]\n",
      " [0 0 1 0 0]\n",
      " [0 0 1 0 0]]\n"
     ]
    }
   ],
   "source": [
    "#get the bipartite sets\n",
    "X, Y = nx.bipartite.sets(B)\n",
    "print(\"Purple set:\", X)\n",
    "print(\"Green set:\", Y)\n",
    "\n",
    "#get the bipartite projections\n",
    "Bpx = nx.bipartite.projected_graph(B, X)\n",
    "print(\"Purple projection:\")\n",
    "print(nx.adjacency_matrix(Bpx).todense())\n",
    "\n",
    "Bpy = nx.bipartite.projected_graph(B, Y)\n",
    "print(\"Green projection:\")\n",
    "print(nx.adjacency_matrix(Bpy).todense())\n"
   ]
  },
  {
   "cell_type": "code",
   "execution_count": 239,
   "metadata": {},
   "outputs": [
    {
     "data": {
      "text/plain": [
       "1.6666666666666667"
      ]
     },
     "execution_count": 239,
     "metadata": {},
     "output_type": "execute_result"
    }
   ],
   "source": [
    "#Avarage degree of the Purple nodes\n",
    "sum(dict(B.degree(X)).values())/len(X)\n"
   ]
  },
  {
   "cell_type": "code",
   "execution_count": 240,
   "metadata": {},
   "outputs": [
    {
     "data": {
      "text/plain": [
       "2.0"
      ]
     },
     "execution_count": 240,
     "metadata": {},
     "output_type": "execute_result"
    }
   ],
   "source": [
    "#Avarage degree of the Green nodes\n",
    "sum(dict(B.degree(Y)).values())/len(Y)"
   ]
  },
  {
   "cell_type": "code",
   "execution_count": 241,
   "metadata": {},
   "outputs": [
    {
     "data": {
      "text/plain": [
       "2.6666666666666665"
      ]
     },
     "execution_count": 241,
     "metadata": {},
     "output_type": "execute_result"
    }
   ],
   "source": [
    "#Avarage degree of the Purple projection\n",
    "sum(dict(Bpx.degree()).values())/len(Bpx)"
   ]
  },
  {
   "cell_type": "code",
   "execution_count": 242,
   "metadata": {},
   "outputs": [
    {
     "data": {
      "text/plain": [
       "2.0"
      ]
     },
     "execution_count": 242,
     "metadata": {},
     "output_type": "execute_result"
    }
   ],
   "source": [
    "#Avarage degree of the Green projection\n",
    "sum(dict(Bpy.degree()).values())/len(Bpy)\n"
   ]
  }
 ],
 "metadata": {
  "kernelspec": {
   "display_name": "social-graphs",
   "language": "python",
   "name": "python3"
  },
  "language_info": {
   "codemirror_mode": {
    "name": "ipython",
    "version": 3
   },
   "file_extension": ".py",
   "mimetype": "text/x-python",
   "name": "python",
   "nbconvert_exporter": "python",
   "pygments_lexer": "ipython3",
   "version": "3.12.4"
  }
 },
 "nbformat": 4,
 "nbformat_minor": 2
}
