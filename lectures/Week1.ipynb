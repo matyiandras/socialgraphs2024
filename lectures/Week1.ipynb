{
 "cells": [
  {
   "cell_type": "markdown",
   "metadata": {},
   "source": [
    "# Week 1\n",
    "\n",
    "## Overview\n",
    "\n",
    "As explained in the [*Before week 1* notebook](https://github.com/SocialComplexityLab/socialgraphs2024/blob/main/lectures/How_To_Take_This_Class.ipynb), each week of this class is an IPython notebook like this one. **_In order to follow the class, you simply start reading from the top_**, following the instructions.\n",
    "\n",
    "**Hint**: And you can ask me - or any of the friendly Teaching Assistants - for help at any point if you get stuck!"
   ]
  },
  {
   "cell_type": "markdown",
   "metadata": {
    "collapsed": true,
    "jupyter": {
     "outputs_hidden": true
    }
   },
   "source": [
    "## Today\n",
    "\n",
    "This first lecture will go over a few different topics to get you started \n",
    "\n",
    "* As the zero'th item. Make sure that you're on top of Python. If you feel you need to refresh. **PLEASE GO TO THE** [Python refresher Notebook](https://github.com/SocialComplexityLab/socialgraphs2024/blob/main/lectures/PythonBootcamp.ipynb) and work through it before proceeding.\n",
    "* And, if you haven't already, also watch the video in the [\"How we do things\" Notebook](https://github.com/SocialComplexityLab/socialgraphs2024/blob/main/lectures/How_To_Take_This_Class.ipynb). Understanding what's going on, will save you a lot of pain and suffering later on in the course.\n",
    "\n",
    "Ok. And now for the actual lecture\n",
    "\n",
    "* First, we talk a bit about APIs and how they work.\n",
    "* Next we'll dip our toes in the waters of Network Science, with a bit of lecturing and reading.\n",
    "* Thirdly, and finally, we'll be getting our hands dirty getting to know the awesome Network Analysis package `NetworkX`."
   ]
  },
  {
   "cell_type": "markdown",
   "metadata": {},
   "source": [
    "## Part 1: What is an API?\n",
    "\n",
    "As a little check that you're on top of Python, let's get started with a quick overview of APIs. And don't worry, the work you do here will be relevant later, I promise.\n",
    "> \n",
    "> **_Video lecture_**: Click below to watch it on YouTube.\n",
    "> \n",
    "**NOTE**: That this video is made for Python 2. There are a few things that won't work in Python 3. To help smooth things over until I update the video, **[here](https://github.com/SocialComplexityLab/socialgraphs2024/blob/main/files/API_check.ipynb)** is an Python3 version of the notebook used in the video to help you out with the changes."
   ]
  },
  {
   "cell_type": "markdown",
   "metadata": {},
   "source": [
    "[![VIDEO](images/l1_apis.jpg)](https://www.youtube.com/watch?v=9l5zOfh0CRo)"
   ]
  },
  {
   "cell_type": "markdown",
   "metadata": {},
   "source": [
    "It's time for you to get to work. Take a look at the two texts below - just to get a sense of a more technical description of how APIs work.\n",
    "\n",
    "Again, this is a Python 2 video, so small changes may apply. This video will be updated soon. Hint: **[Here](https://github.com/SocialComplexityLab/socialgraphs2024/blob/main/files/API_check.ipynb)** is a Python3 version of the notebook used in the video that you can work from.\n",
    "\n",
    "\n",
    "> _Reading_ (just skim): [Wikipedia page on APIs](https://en.wikipedia.org/wiki/Web_API)  \n",
    "> _Reading_ (just skim): [Wikipedia page on REST for web services](https://en.wikipedia.org/wiki/Representational_state_transfer#Applied_to_web_services)\n",
    "> "
   ]
  },
  {
   "cell_type": "markdown",
   "metadata": {},
   "source": [
    "> *Exercise*: \n",
    "> * Explain in your own words: What is the the difference between the html page and the wiki-source?\n",
    "> * What are the various parameters you can set for a query of the wikipedia api?\n",
    "> * Write your own little `notebook` to download wikipedia pages based on the video above. Download the source for your 4 favorite wikipedia pages.\n",
    "\n",
    "<div class=\"alert alert-block alert-info\">\n",
    "You might feel tempted to use an LLM to answer the questions above. Don't! The goal of taking the class is to get smarter, and you won't get smarter if someone else does the work for you. So think! Write down your own thoughts. Then when you're done, you can use and LLM to make the answers better.\n",
    "</div>"
   ]
  },
  {
   "cell_type": "markdown",
   "metadata": {},
   "source": [
    "# Part 2: Basic description of networks\n",
    "\n",
    "Now let's get to some some lecturing. I love networks, so I'll take some time time today to tell you about them.\n",
    "\n",
    "> **_Video Lecture_**. Start by watching the \"History of Networks\" below\n"
   ]
  },
  {
   "cell_type": "markdown",
   "metadata": {},
   "source": [
    "[![VIDEO](images/l1_history.jpg)](https://www.youtube.com/watch?v=qjM9yMarl70)"
   ]
  },
  {
   "cell_type": "markdown",
   "metadata": {},
   "source": [
    "> _Reading_. We'll be reading the textbook _Network Science_ (NS) by Laszlo Barabasi. You can read the whole \n",
    "> thing for free [**here**](http://barabasi.com/networksciencebook/). If you like paper books, the DTU Bookstore has good deals, I am told.\n",
    "> \n",
    "> * Read chapter 1\\.\n",
    "> "
   ]
  },
  {
   "cell_type": "markdown",
   "metadata": {},
   "source": [
    "> _Exercises_  \n",
    "> _Chapter 1_ (Don't forget that you should be answering these in an IPython notebook.) \n",
    "> \n",
    "> * List three different real networks and state the nodes and links for each of them.\n",
    ">   * Facebook: Nodes are people, links are friendships.\n",
    ">   * The Internet: Nodes are computers, links are physical connections.\n",
    ">   * The family tree: Nodes are people, links are parent/child relationships.\n",
    "> * Tell us of the network you are personally most interested in (a fourth one). Address the following questions: \n",
    ">   The network that I'm most interested in is the network of wikipedia pages.\n",
    ">   * What are its nodes and links? The nodes are wikipedia pages, and the links are hyperlinks between the pages.\n",
    ">   * How large is it? It's huge, with millions of pages and billions of links.\n",
    ">   * Can be mapped out? Yes, it can be mapped out, but it would be a huge network.\n",
    ">   * Does it evolve over time? Yes, it evolves over time as new pages are created and old pages are updated.\n",
    ">   * Are there processes occurring ON the network? (information spreading, for example) Not really.\n",
    ">   * Why do you care about it? I care about it because I like to play a game where you start on one page and try to get to another page by only clicking links in the pages. It's fun to see how few clicks you need to get from one page to another. Also I saw a YouTube video about the map of the wiki network and I found it fascinating.\n",
    "> * In your view what would be the area where network science could have the biggest impact in the next decade? Explain your answer - and base it on the text in the book.\n",
    ">   * I think network science is definetly going to have a big impact of brain science. The book talks about how the brain is a network of neurons, and how network science can be used to understand how the brain works. With companies such as Neuralink making huge advancements in the field I'm sure that a deeper understanding of the inner workings of the brain will lead to amazing inventions and discoveries.\n",
    "\n",
    "<div class=\"alert alert-block alert-info\">\n",
    "Once again, you might feel tempted to use an LLM to answer the questions above. Don't do it! \n",
    "    \n",
    "The goal of taking the class is to get learn, and you won't learn a thing if a machine does the work for you. It's OK to first down your own thoughts. Then, when you're done, you can use and LLM to improve your answers.\n",
    "</div>"
   ]
  },
  {
   "cell_type": "markdown",
   "metadata": {},
   "source": [
    "# Part 3: The awesome `NetworkX` library\n",
    "\n",
    "In case it wasn't clear by now, this class is about YOU analyzing networks. And it wouldn't be right to start the first lecture without playing a little bit with network analysis (there will be much more on this in the following lectures). So here goes...\n",
    "\n",
    "`NetworkX` should already be installed as part of your _Anaconda_ Python distribution. But you don't know how to use it yet. The best way to get familiar is to work through a tutorial. That's what the next exercise is about\n",
    "\n",
    "> *Exercises*:\n",
    "> \n",
    "> * Go to the `NetworkX` project's [tutorial page](https://networkx.github.io/documentation/stable/tutorial.html). The goal of this exercise is to create your own Notebook that contains the entire tutorial. You're free to add your own (e.g. shorter) comments in place of the ones in the official tutorial - and change the code to make it your own where ever it makes sense. \n",
    "\n",
    "There will be much more on NetworkX next time."
   ]
  },
  {
   "cell_type": "code",
   "execution_count": null,
   "metadata": {},
   "outputs": [],
   "source": []
  }
 ],
 "metadata": {
  "anaconda-cloud": {},
  "kernelspec": {
   "display_name": "Python 3 (ipykernel)",
   "language": "python",
   "name": "python3"
  },
  "language_info": {
   "codemirror_mode": {
    "name": "ipython",
    "version": 3
   },
   "file_extension": ".py",
   "mimetype": "text/x-python",
   "name": "python",
   "nbconvert_exporter": "python",
   "pygments_lexer": "ipython3",
   "version": "3.9.19"
  }
 },
 "nbformat": 4,
 "nbformat_minor": 4
}
